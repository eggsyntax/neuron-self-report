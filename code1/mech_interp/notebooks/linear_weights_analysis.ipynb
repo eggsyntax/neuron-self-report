{
 "cells": [
  {
   "cell_type": "markdown",
   "metadata": {},
   "source": [
    "# Linear Weights Analysis\n",
    "\n",
    "This notebook compares the linear weights used for activation prediction with the MLP layer weights of the neuron being predicted. We'll examine two relationships:\n",
    "\n",
    "1. Comparison with MLP input weights (weights into the target neuron)\n",
    "2. Comparison with MLP output weights (weights from the target neuron back to the residual stream)\n",
    "\n",
    "Through this analysis, we can determine whether the prediction model has learned to approximate the actual computation path within the neural network."
   ]
  },
  {
   "cell_type": "markdown",
   "metadata": {},
   "source": [
    "## 1. Setup and Loading"
   ]
  },
  {
   "cell_type": "code",
   "execution_count": 68,
   "metadata": {},
   "outputs": [],
   "source": [
    "# Imports\n",
    "import os\n",
    "import torch\n",
    "import torch.nn.functional as F\n",
    "import numpy as np\n",
    "import matplotlib.pyplot as plt\n",
    "import json\n",
    "from pathlib import Path\n",
    "from transformer_lens import HookedTransformer"
   ]
  },
  {
   "cell_type": "code",
   "execution_count": 69,
   "metadata": {},
   "outputs": [],
   "source": [
    "# Function to load trained model head\n",
    "def load_head(model_path):\n",
    "    \"\"\"Load the saved prediction head and its configuration\"\"\"\n",
    "    config_path = os.path.join(model_path, \"config.json\")\n",
    "    head_path = os.path.join(model_path, \"head.pt\")\n",
    "    \n",
    "    with open(config_path, \"r\") as f:\n",
    "        config = json.load(f)\n",
    "    \n",
    "    head_weights = torch.load(head_path, map_location=\"cpu\")\n",
    "    \n",
    "    return head_weights, config"
   ]
  },
  {
   "cell_type": "code",
   "execution_count": 70,
   "metadata": {},
   "outputs": [
    {
     "name": "stdout",
     "output_type": "stream",
     "text": [
      "Model configuration:\n",
      "  head_type: regression\n",
      "  target_layer: 8\n",
      "  target_neuron: 481\n",
      "  layer_type: mlp_out\n",
      "  token_pos: last\n",
      "  feature_layer: -1\n",
      "  base_model_name: gpt2\n",
      "  d_model: 768\n",
      "  bin_edges: None\n",
      "  activation_mean: 16.8935278301239\n",
      "  activation_std: 3.646510573945053\n",
      "\n",
      "Head type: regression\n",
      "Hidden dimension: None\n"
     ]
    }
   ],
   "source": [
    "# Path to a trained model - update this path to a valid model directory\n",
    "# Look in the output/ directory for recent models or important-outputs/ for significant results\n",
    "model_path = \"/Users/egg/Documents/ai-safety/Research Projects/neuron_self_report/code1/important-outputs/linear-regression-head-learns-to-predict/regression-none-500-neuron_l8_n481_20250409_180154_20250409_1826-mse180.0586/models/neuron_l8_n481_20250409_180154/best_model\"\n",
    "model_path = \"/Users/egg/Documents/ai-safety/Research Projects/neuron_self_report/code1/important-outputs/unfrozen-last-layers-learn-to-predict-30-epochs/regression-after_target-500-30epochs-neuron_l8_n481--mse29.02-20250422_1259/models/neuron_l8_n481_20250422_120142/best_model\"\n",
    "\n",
    "# Load the trained model\n",
    "head_weights, config = load_head(model_path)\n",
    "\n",
    "# Display the config to understand what we're analyzing\n",
    "print(\"Model configuration:\")\n",
    "for key, value in config.items():\n",
    "    if key != \"head_config\":  # Skip printing the full head config for brevity\n",
    "        print(f\"  {key}: {value}\")\n",
    "\n",
    "# Print head type details\n",
    "print(f\"\\nHead type: {config['head_type']}\")\n",
    "if \"head_config\" in config and \"hidden_dim\" in config[\"head_config\"]:\n",
    "    print(f\"Hidden dimension: {config['head_config']['hidden_dim']}\")"
   ]
  },
  {
   "cell_type": "code",
   "execution_count": 71,
   "metadata": {},
   "outputs": [
    {
     "name": "stdout",
     "output_type": "stream",
     "text": [
      "Loaded pretrained model gpt2 into HookedTransformer\n",
      "Analyzing neuron 481 in layer 8\n",
      "Base model: gpt2\n",
      "Hidden dimension: 768\n",
      "MLP dimension: 3072\n"
     ]
    }
   ],
   "source": [
    "# Load the base transformer model\n",
    "base_model_name = config[\"base_model_name\"]\n",
    "base_model = HookedTransformer.from_pretrained(base_model_name)\n",
    "\n",
    "# Extract target neuron information\n",
    "target_layer = config[\"target_layer\"]\n",
    "target_neuron = config[\"target_neuron\"]\n",
    "layer_type = config[\"layer_type\"]\n",
    "print(f\"Analyzing neuron {target_neuron} in layer {target_layer}\")\n",
    "print(f\"Base model: {base_model_name}\")\n",
    "print(f\"Hidden dimension: {base_model.cfg.d_model}\")\n",
    "print(f\"MLP dimension: {base_model.cfg.d_mlp}\")"
   ]
  },
  {
   "cell_type": "markdown",
   "metadata": {},
   "source": [
    "## 1.5 Function definitions"
   ]
  },
  {
   "cell_type": "code",
   "execution_count": null,
   "metadata": {},
   "outputs": [],
   "source": [
    "# Extract linear weights from the head based on head type\n",
    "def extract_linear_weights(head_weights, config, base_model=None):\n",
    "    \"\"\"Extract the linear prediction tensor from the head\"\"\"\n",
    "    head_type = config[\"head_type\"]\n",
    "    \n",
    "    if head_type == \"regression\":\n",
    "        # For regression head, extract the final linear layer weights\n",
    "        if \"hidden.weight\" in head_weights:\n",
    "            # Has hidden layer - need to compose the transformation\n",
    "            hidden_w = head_weights[\"hidden.weight\"]\n",
    "            hidden_b = head_weights[\"hidden.bias\"]\n",
    "            output_w = head_weights[\"output.weight\"]\n",
    "            output_b = head_weights[\"output.bias\"]\n",
    "            \n",
    "            # Note: This is an approximation, as we're ignoring the non-linearity\n",
    "            # We'll use only the linear component for direct comparison\n",
    "            linear_weights = output_w.squeeze()\n",
    "            print(\"Using output layer weights from regression head with hidden layer\")\n",
    "        else:\n",
    "            # Direct linear projection\n",
    "            linear_weights = head_weights[\"output.weight\"].squeeze()\n",
    "            print(\"Using output layer weights from regression head without hidden layer\")\n",
    "    \n",
    "    elif head_type == \"classification\":\n",
    "        # For classification head, combine weights based on bin edges\n",
    "        output_weights = head_weights[\"output.weight\"]\n",
    "        bin_edges = config.get(\"bin_edges\")\n",
    "        \n",
    "        if bin_edges:\n",
    "            # Calculate bin centers\n",
    "            bin_centers = [(bin_edges[i] + bin_edges[i+1])/2 for i in range(len(bin_edges)-1)]\n",
    "            \n",
    "            # Weight each class weight by its bin center to get a linear approximation\n",
    "            combined_weights = torch.zeros_like(output_weights[0])\n",
    "            for i, center in enumerate(bin_centers):\n",
    "                if i < output_weights.shape[0]:\n",
    "                    combined_weights += output_weights[i] * center\n",
    "            \n",
    "            linear_weights = combined_weights\n",
    "            print(f\"Using weighted combination of classification weights with {len(bin_centers)} bin centers\")\n",
    "        else:\n",
    "            # If no bin edges, use the first class weight as an approximation\n",
    "            linear_weights = output_weights[0]\n",
    "            print(\"Warning: Using first class weight as approximation (no bin edges found)\")\n",
    "    \n",
    "    elif head_type == \"token\":\n",
    "        # For token head, weights come from the base model's embedding\n",
    "        if base_model is None:\n",
    "            raise ValueError(\"Base model is required for token head analysis\")\n",
    "            \n",
    "        # Get digit tokens (0-9) from the head config or use defaults\n",
    "        digit_tokens = config.get(\"head_config\", {}).get(\"digit_tokens\", list(range(48, 58)))  # ASCII 0-9\n",
    "        \n",
    "        if not digit_tokens:\n",
    "            # Fallback to ASCII digits if no tokens found\n",
    "            digit_tokens = list(range(48, 58))\n",
    "            \n",
    "        # Get embedding vectors for digit tokens\n",
    "        digit_embeddings = base_model.embed.weight[digit_tokens]\n",
    "        \n",
    "        # Weight each embedding by its value (0-9)\n",
    "        combined_weights = torch.zeros_like(digit_embeddings[0])\n",
    "        for i, embedding in enumerate(digit_embeddings):\n",
    "            combined_weights += embedding * (i / 9.0)  # Normalize to 0-1 range\n",
    "        \n",
    "        linear_weights = combined_weights\n",
    "        print(f\"Using weighted combination of {len(digit_tokens)} token embeddings\")\n",
    "    \n",
    "    else:\n",
    "        raise ValueError(f\"Unknown head type: {head_type}\")\n",
    "    \n",
    "    return linear_weights.to(torch.device(\"mps\"))"
   ]
  },
  {
   "cell_type": "code",
   "execution_count": null,
   "metadata": {},
   "outputs": [],
   "source": [
    "# Extract MLP input weights for the target neuron\n",
    "def get_neuron_in_weights(model, layer, neuron=None):\n",
    "    \"\"\"Get weights from residual stream into MLP layer\"\"\"\n",
    "    # Try different model architectures\n",
    "    try:\n",
    "        # TransformerLens standard format\n",
    "        if hasattr(model.blocks[layer].mlp, \"W_in\"):\n",
    "            print(\"TransformerLens standard format\")\n",
    "            # print(f\"W_in: {model.blocks[layer].mlp.W_in}\")\n",
    "            mlp_in = model.blocks[layer].mlp.W_in\n",
    "        # GPT-2 style\n",
    "        elif hasattr(model.blocks[layer].mlp, \"c_fc\"):\n",
    "            print(\"GPT-2 style\")\n",
    "            mlp_in = model.blocks[layer].mlp.c_fc\n",
    "        # Fallback for other architectures\n",
    "        else:\n",
    "            print(\"Fallback, can we find a weight matrix in the MLP module?\")\n",
    "            # Try to find any weight matrix in the MLP module\n",
    "            for name, module in model.blocks[layer].mlp.named_modules():\n",
    "                if isinstance(module, torch.nn.Linear) and module.weight.shape[0] > model.cfg.d_model:\n",
    "                    mlp_in = module.weight\n",
    "                    break\n",
    "            else:\n",
    "                raise ValueError(\"Couldn't find MLP input weights\")\n",
    "                \n",
    "        # print(f\"MLP input weights shape: {mlp_in.shape}\")\n",
    "        if neuron is not None:\n",
    "            # print(f\"Returning info for the target neuron: {neuron}\")\n",
    "            return mlp_in[:, neuron]  # Column corresponding to this neuron\n",
    "        print(f\"Returning all weights for the MLP input, how weird! {mlp_in.shape}\")\n",
    "        return mlp_in\n",
    "    except Exception as e:\n",
    "        print(f\"Error accessing MLP input weights: {e}\")\n",
    "        print(\"Model structure:\")\n",
    "        for name, param in model.named_parameters():\n",
    "            if f\"blocks.{layer}\" in name and \"mlp\" in name and \"weight\" in name:\n",
    "                print(f\"  {name}: {param.shape}\")\n",
    "        raise"
   ]
  },
  {
   "cell_type": "code",
   "execution_count": null,
   "metadata": {},
   "outputs": [],
   "source": [
    "# Extract MLP output weights for the target neuron\n",
    "def get_neuron_out_weights(model, layer, neuron=None):\n",
    "    \"\"\"Get weights from MLP neuron to output\"\"\"\n",
    "    # Try different model architectures\n",
    "    try:\n",
    "        # TransformerLens standard format\n",
    "        if hasattr(model.blocks[layer].mlp, \"W_out\"):\n",
    "            print(\"TransformerLens standard format\")\n",
    "            mlp_out = model.blocks[layer].mlp.W_out\n",
    "        # GPT-2 style\n",
    "        elif hasattr(model.blocks[layer].mlp, \"c_proj\"):\n",
    "            print(\"GPT-2 style\")\n",
    "            mlp_out = model.blocks[layer].mlp.c_proj\n",
    "        # Fallback for other architectures\n",
    "        else:\n",
    "            print(\"Fallback, can we find a weight matrix in the MLP module?\")\n",
    "            # Try to find any weight matrix in the MLP module with appropriate shape\n",
    "            for name, module in model.blocks[layer].mlp.named_modules():\n",
    "                if isinstance(module, torch.nn.Linear) and module.weight.shape[1] > model.cfg.d_model:\n",
    "                    mlp_out = module.weight\n",
    "                    break\n",
    "            else:\n",
    "                raise ValueError(\"Couldn't find MLP output weights\")\n",
    "                \n",
    "        # print(f\"MLP output weights shape: {mlp_out.shape}\")\n",
    "        if neuron is not None:\n",
    "            return mlp_out[neuron] # Row corresponding to this neuron \n",
    "        return mlp_out\n",
    "    except Exception as e:\n",
    "        print(f\"Error accessing MLP output weights: {e}\")\n",
    "        print(\"Model structure:\")\n",
    "        for name, param in model.named_parameters():\n",
    "            if f\"blocks.{layer}\" in name and \"mlp\" in name and \"weight\" in name:\n",
    "                print(f\"  {name}: {param.shape}\")\n",
    "        raise"
   ]
  },
  {
   "cell_type": "markdown",
   "metadata": {},
   "source": [
    "## 2. Extract and Examine Head Weights"
   ]
  },
  {
   "cell_type": "code",
   "execution_count": 72,
   "metadata": {},
   "outputs": [
    {
     "name": "stdout",
     "output_type": "stream",
     "text": [
      "Head weights keys:\n",
      "  output.weight: torch.Size([1, 768])\n",
      "  output.bias: torch.Size([1])\n"
     ]
    }
   ],
   "source": [
    "# Examine the head weights\n",
    "print(\"Head weights keys:\")\n",
    "for key in head_weights.keys():\n",
    "    print(f\"  {key}: {head_weights[key].shape}\")"
   ]
  },
  {
   "cell_type": "code",
   "execution_count": 66,
   "metadata": {},
   "outputs": [
    {
     "name": "stdout",
     "output_type": "stream",
     "text": [
      "Using output layer weights from regression head without hidden layer\n",
      "Linear weights shape: torch.Size([768])\n"
     ]
    }
   ],
   "source": [
    "# Extract the linear prediction weights\n",
    "linear_weights = extract_linear_weights(head_weights, config, base_model)\n",
    "print(f\"Linear weights shape: {linear_weights.shape}\")"
   ]
  },
  {
   "cell_type": "markdown",
   "metadata": {},
   "source": [
    "## 3. Extract MLP Layer Weights"
   ]
  },
  {
   "cell_type": "code",
   "execution_count": null,
   "metadata": {},
   "outputs": [
    {
     "name": "stdout",
     "output_type": "stream",
     "text": [
      "MLP module structure for layer 8:\n",
      "Non-Linear module: , MLP(\n",
      "  (hook_pre): HookPoint()\n",
      "  (hook_post): HookPoint()\n",
      ")\n",
      "Non-Linear module: hook_pre, HookPoint()\n",
      "Non-Linear module: hook_post, HookPoint()\n"
     ]
    }
   ],
   "source": [
    "# Optional: inspect the block structure \n",
    "try:\n",
    "    print(f\"MLP module structure for layer {target_layer}:\")\n",
    "    for name, module in base_model.blocks[target_layer].mlp.named_modules():\n",
    "        if isinstance(module, torch.nn.Linear):\n",
    "            print(f\"  {name}: {module}\")\n",
    "            print(f\"    input_dim: {module.in_features}, output_dim: {module.out_features}\")\n",
    "        else:\n",
    "            print(f\"Non-Linear module: {name}, {module}\")\n",
    "except Exception as e:\n",
    "    print(f\"Error inspecting MLP structure: {e}\")\n",
    "    print(\"Trying to list all parameters:\")\n",
    "    for name, param in base_model.named_parameters():\n",
    "        if f\"blocks.{target_layer}\" in name and \"mlp\" in name:\n",
    "            print(f\"  {name}: {param.shape}\")"
   ]
  },
  {
   "cell_type": "code",
   "execution_count": 73,
   "metadata": {},
   "outputs": [
    {
     "name": "stdout",
     "output_type": "stream",
     "text": [
      "TransformerLens standard format\n",
      "Neuron input weights shape for neuron: torch.Size([768])\n",
      "TransformerLens standard format\n",
      "Neuron output weights shape: torch.Size([768])\n"
     ]
    }
   ],
   "source": [
    "# Extract MLP weights for the target neuron\n",
    "try:\n",
    "    neuron_in_weights = get_neuron_in_weights(base_model, target_layer, target_neuron)\n",
    "    print(f\"Neuron input weights shape for neuron: {neuron_in_weights.shape}\")\n",
    "    \n",
    "    neuron_out_weights = get_neuron_out_weights(base_model, target_layer, target_neuron)\n",
    "    print(f\"Neuron output weights shape: {neuron_out_weights.shape}\")\n",
    "except Exception as e:\n",
    "    print(f\"Error extracting MLP weights: {e}\")\n",
    "    # Try getting all weights to see what's available\n",
    "    print(\"Available parameters:\")\n",
    "    for name, param in base_model.named_parameters():\n",
    "        if f\"blocks.{target_layer}\" in name:\n",
    "            print(f\"  {name}: {param.shape}\")"
   ]
  },
  {
   "cell_type": "markdown",
   "metadata": {},
   "source": [
    "## 4. Compare Linear Weights with MLP Weights"
   ]
  },
  {
   "cell_type": "code",
   "execution_count": 74,
   "metadata": {},
   "outputs": [
    {
     "name": "stdout",
     "output_type": "stream",
     "text": [
      "Cosine similarity with MLP input weights: 0.0453\n",
      "Cosine similarity with MLP output weights: -0.0309\n"
     ]
    }
   ],
   "source": [
    "# Compare linear weights (torch.Size([768])) with MLP input weights\n",
    "\n",
    "sim_with_input = F.cosine_similarity(linear_weights, neuron_in_weights, dim=0, eps=1e-8)\n",
    "print(f\"Cosine similarity with MLP input weights: {sim_with_input:.4f}\")\n",
    "\n",
    "# Compare linear weights with MLP output weights\n",
    "sim_with_output = F.cosine_similarity(linear_weights, neuron_out_weights, dim=0, eps=1e-8)\n",
    "print(f\"Cosine similarity with MLP output weights: {sim_with_output:.4f}\")"
   ]
  },
  {
   "cell_type": "code",
   "execution_count": 75,
   "metadata": {},
   "outputs": [
    {
     "data": {
      "image/png": "[encoded data removed]",
      "text/plain": [
       "<Figure size 1000x600 with 1 Axes>"
      ]
     },
     "metadata": {},
     "output_type": "display_data"
    }
   ],
   "source": [
    "# Create a bar chart comparing similarities\n",
    "plt.figure(figsize=(10, 6))\n",
    "bars = plt.bar(['Similarity with MLP Input', 'Similarity with MLP Output'], \n",
    "        [sim_with_input.item(), sim_with_output.item()],\n",
    "        color=['blue', 'green'])\n",
    "\n",
    "# Add value labels on top of bars\n",
    "for bar in bars:\n",
    "    height = bar.get_height()\n",
    "    plt.text(bar.get_x() + bar.get_width()/2., height,\n",
    "            f'{height:.4f}',\n",
    "            ha='center', va='bottom')\n",
    "\n",
    "plt.ylim(-1, 1)\n",
    "plt.axhline(y=0, color='r', linestyle='-', alpha=0.3)\n",
    "plt.title(f'Cosine Similarity between Linear Weights and MLP Weights\\nNeuron {target_neuron} in Layer {target_layer}')\n",
    "plt.ylabel('Cosine Similarity')\n",
    "plt.grid(axis='y', alpha=0.3)\n",
    "plt.savefig('weight_similarity_comparison.png')\n",
    "plt.show()"
   ]
  },
  {
   "cell_type": "markdown",
   "metadata": {},
   "source": [
    "## 5. Analyze Weight Distributions"
   ]
  },
  {
   "cell_type": "code",
   "execution_count": 76,
   "metadata": {},
   "outputs": [
    {
     "data": {
      "image/png": "[encoded data removed]",
      "text/plain": [
       "<Figure size 1500x500 with 3 Axes>"
      ]
     },
     "metadata": {},
     "output_type": "display_data"
    }
   ],
   "source": [
    "# Analyze weight distributions\n",
    "plt.figure(figsize=(15, 5))\n",
    "\n",
    "plt.subplot(1, 3, 1)\n",
    "plt.hist(linear_weights.detach().cpu().numpy(), bins=30, alpha=0.7, color='blue')\n",
    "plt.title('Linear Prediction Weights Distribution')\n",
    "plt.xlabel('Weight Value')\n",
    "plt.ylabel('Frequency')\n",
    "\n",
    "plt.subplot(1, 3, 2)\n",
    "plt.hist(neuron_in_weights.detach().cpu().numpy(), bins=30, alpha=0.7, color='green')\n",
    "plt.title('MLP Input Weights Distribution')\n",
    "plt.xlabel('Weight Value')\n",
    "\n",
    "plt.subplot(1, 3, 3)\n",
    "plt.hist(neuron_out_weights.detach().cpu().numpy(), bins=30, alpha=0.7, color='orange')\n",
    "plt.title('MLP Output Weights Distribution')\n",
    "plt.xlabel('Weight Value')\n",
    "\n",
    "plt.tight_layout()\n",
    "plt.savefig('weight_distributions.png')\n",
    "plt.show()"
   ]
  },
  {
   "cell_type": "code",
   "execution_count": 77,
   "metadata": {},
   "outputs": [
    {
     "name": "stdout",
     "output_type": "stream",
     "text": [
      "Weight Statistics:\n",
      "\n",
      "Linear Prediction Weights:\n",
      "  mean: -0.000439\n",
      "  std: 0.019859\n",
      "  min: -0.062032\n",
      "  max: 0.068913\n",
      "  l2_norm: 0.550474\n",
      "  sparsity: 0.001302\n",
      "\n",
      "MLP Input Weights:\n",
      "  mean: 0.000000\n",
      "  std: 0.030224\n",
      "  min: -0.081602\n",
      "  max: 0.093352\n",
      "  l2_norm: 0.837605\n",
      "  sparsity: 0.000000\n",
      "\n",
      "MLP Output Weights:\n",
      "  mean: 0.000000\n",
      "  std: 0.119333\n",
      "  min: -0.358986\n",
      "  max: 0.338473\n",
      "  l2_norm: 3.307065\n",
      "  sparsity: 0.001302\n"
     ]
    }
   ],
   "source": [
    "# Compute statistics for each weight vector\n",
    "def compute_weight_stats(weights, name):\n",
    "    \"\"\"Compute basic statistics for weight tensor\"\"\"\n",
    "    w = weights.detach().cpu().numpy()\n",
    "    return {\n",
    "        \"name\": name,\n",
    "        \"mean\": float(np.mean(w)),\n",
    "        \"std\": float(np.std(w)),\n",
    "        \"min\": float(np.min(w)),\n",
    "        \"max\": float(np.max(w)),\n",
    "        \"l2_norm\": float(np.linalg.norm(w)),\n",
    "        \"sparsity\": float(np.mean(np.abs(w) < 1e-5))\n",
    "    }\n",
    "\n",
    "# Compute and display statistics\n",
    "stats = [\n",
    "    compute_weight_stats(linear_weights, \"Linear Prediction Weights\"),\n",
    "    compute_weight_stats(neuron_in_weights, \"MLP Input Weights\"),\n",
    "    compute_weight_stats(neuron_out_weights, \"MLP Output Weights\")\n",
    "]\n",
    "\n",
    "print(\"Weight Statistics:\")\n",
    "for s in stats:\n",
    "    print(f\"\\n{s['name']}:\")\n",
    "    for k, v in s.items():\n",
    "        if k != 'name':\n",
    "            print(f\"  {k}: {v:.6f}\")"
   ]
  },
  {
   "cell_type": "markdown",
   "metadata": {},
   "source": [
    "## 6. Visualize with Dimensionality Reduction"
   ]
  },
  {
   "cell_type": "code",
   "execution_count": 78,
   "metadata": {},
   "outputs": [
    {
     "data": {
      "image/png": "[encoded data removed]",
      "text/plain": [
       "<Figure size 1000x800 with 1 Axes>"
      ]
     },
     "metadata": {},
     "output_type": "display_data"
    }
   ],
   "source": [
    "# If the weights are high-dimensional, try visualizing with PCA\n",
    "from sklearn.decomposition import PCA\n",
    "\n",
    "# Prepare weight vectors\n",
    "weight_vectors = [\n",
    "    (\"Linear Weights\", linear_weights.detach().cpu().numpy()),\n",
    "    (\"MLP Input Weights\", neuron_in_weights.detach().cpu().numpy()),\n",
    "    (\"MLP Output Weights\", neuron_out_weights.detach().cpu().numpy())\n",
    "]\n",
    "\n",
    "# Stack all vectors for PCA\n",
    "all_weights = np.vstack([w[1].reshape(1, -1) for w in weight_vectors])\n",
    "\n",
    "# Perform PCA\n",
    "pca = PCA(n_components=2)\n",
    "weights_pca = pca.fit_transform(all_weights)\n",
    "\n",
    "# Plot in 2D space\n",
    "plt.figure(figsize=(10, 8))\n",
    "colors = ['blue', 'green', 'orange']\n",
    "for i, (name, _) in enumerate(weight_vectors):\n",
    "    plt.scatter(weights_pca[i, 0], weights_pca[i, 1], label=name, s=150, color=colors[i])\n",
    "\n",
    "plt.title('PCA Projection of Weight Vectors')\n",
    "plt.xlabel(f'PC1 ({pca.explained_variance_ratio_[0]:.2%} variance)')\n",
    "plt.ylabel(f'PC2 ({pca.explained_variance_ratio_[1]:.2%} variance)')\n",
    "plt.legend()\n",
    "plt.grid(alpha=0.3)\n",
    "plt.savefig('weight_vectors_pca.png')\n",
    "plt.show()"
   ]
  },
  {
   "cell_type": "markdown",
   "metadata": {},
   "source": [
    "## 7. Compare with Random Projection"
   ]
  },
  {
   "cell_type": "code",
   "execution_count": 79,
   "metadata": {},
   "outputs": [
    {
     "name": "stdout",
     "output_type": "stream",
     "text": [
      "Random similarity baseline:\n",
      "  mean: 0.000582\n",
      "  std: 0.036265\n",
      "  p5: -0.059929\n",
      "  p95: 0.057943\n",
      "  min: -0.121890\n",
      "  max: 0.132252\n",
      "\n",
      "Statistical significance:\n",
      "  Input similarity z-score: 1.23\n",
      "  Output similarity z-score: -0.87\n"
     ]
    }
   ],
   "source": [
    "# Generate random vectors for comparison\n",
    "def random_similarity_baseline(vector, num_samples=1000):\n",
    "    \"\"\"Compare a vector with random vectors to establish a baseline\"\"\"\n",
    "    vector = vector.flatten().detach().cpu().numpy()\n",
    "    similarities = []\n",
    "    \n",
    "    for _ in range(num_samples):\n",
    "        # Generate random vector with same dimension\n",
    "        random_vec = np.random.randn(vector.shape[0])\n",
    "        # Normalize both vectors\n",
    "        vec_norm = vector / np.linalg.norm(vector)\n",
    "        rand_norm = random_vec / np.linalg.norm(random_vec)\n",
    "        # Compute cosine similarity\n",
    "        sim = np.dot(vec_norm, rand_norm)\n",
    "        similarities.append(sim)\n",
    "    \n",
    "    return {\n",
    "        \"mean\": np.mean(similarities),\n",
    "        \"std\": np.std(similarities),\n",
    "        \"p5\": np.percentile(similarities, 5),\n",
    "        \"p95\": np.percentile(similarities, 95),\n",
    "        \"min\": np.min(similarities),\n",
    "        \"max\": np.max(similarities)\n",
    "    }\n",
    "\n",
    "# Calculate random baselines\n",
    "random_baseline = random_similarity_baseline(linear_weights)\n",
    "\n",
    "print(\"Random similarity baseline:\")\n",
    "for k, v in random_baseline.items():\n",
    "    print(f\"  {k}: {v:.6f}\")\n",
    "\n",
    "# Calculate how many standard deviations our similarities are from random\n",
    "z_score_input = (sim_with_input - random_baseline[\"mean\"]) / random_baseline[\"std\"]\n",
    "z_score_output = (sim_with_output - random_baseline[\"mean\"]) / random_baseline[\"std\"]\n",
    "\n",
    "print(f\"\\nStatistical significance:\")\n",
    "print(f\"  Input similarity z-score: {z_score_input:.2f}\")\n",
    "print(f\"  Output similarity z-score: {z_score_output:.2f}\")"
   ]
  },
  {
   "cell_type": "markdown",
   "metadata": {},
   "source": [
    "## 8. Summary and Interpretation"
   ]
  },
  {
   "cell_type": "code",
   "execution_count": 80,
   "metadata": {},
   "outputs": [
    {
     "name": "stdout",
     "output_type": "stream",
     "text": [
      "Analysis Summary:\n",
      "  model_path: /Users/egg/Documents/ai-safety/Research Projects/neuron_self_report/code1/important-outputs/unfrozen-last-layers-learn-to-predict-30-epochs/regression-after_target-500-30epochs-neuron_l8_n481--mse29.02-20250422_1259/models/neuron_l8_n481_20250422_120142/best_model\n",
      "  head_type: regression\n",
      "  target_layer: 8\n",
      "  target_neuron: 481\n",
      "  sim_with_input: 0.045291103422641754\n",
      "  sim_with_output: -0.03094005584716797\n",
      "  random_baseline_mean: 0.0005822937702578184\n",
      "  z_score_input: 1.232842206954956\n",
      "  z_score_output: -0.8692264556884766\n",
      "  timestamp: 2025-04-23T21:01:03\n",
      "\n",
      "Results saved to /Users/egg/Documents/ai-safety/Research Projects/neuron_self_report/code1/important-outputs/unfrozen-last-layers-learn-to-predict-30-epochs/regression-after_target-500-30epochs-neuron_l8_n481--mse29.02-20250422_1259/models/neuron_l8_n481_20250422_120142/best_model/../../../mech_interp_weights_analysis_results.json\n"
     ]
    }
   ],
   "source": [
    "# Create a summary table\n",
    "summary = {\n",
    "    \"model_path\": model_path,\n",
    "    \"head_type\": config[\"head_type\"],\n",
    "    \"target_layer\": target_layer,\n",
    "    \"target_neuron\": target_neuron,\n",
    "    \"sim_with_input\": sim_with_input.item(),\n",
    "    \"sim_with_output\": sim_with_output.item(),\n",
    "    \"random_baseline_mean\": random_baseline[\"mean\"],\n",
    "    \"z_score_input\": z_score_input.item(),\n",
    "    \"z_score_output\": z_score_output.item(),\n",
    "    \"timestamp\": str(np.datetime64('now'))\n",
    "}\n",
    "\n",
    "print(\"Analysis Summary:\")\n",
    "for k, v in summary.items():\n",
    "    print(f\"  {k}: {v}\")\n",
    "\n",
    "# Save results\n",
    "results_path = os.path.join(model_path, \"../../../mech_interp_weights_analysis_results.json\")\n",
    "with open(results_path, \"w\") as f:\n",
    "    json.dump(summary, f, indent=2)\n",
    "\n",
    "print(f\"\\nResults saved to {results_path}\")"
   ]
  },
  {
   "cell_type": "markdown",
   "metadata": {},
   "source": []
  },
  {
   "cell_type": "markdown",
   "metadata": {},
   "source": [
    "## Interpretation\n",
    "\n",
    "Based on the cosine similarities and weight distributions, we can interpret the results as follows:\n",
    "\n",
    "1. **Similarity with Input Weights**:\n",
    "   - A high similarity suggests the prediction model has learned to look at the direction entering the neuron.\n",
    "   - This would mean that the predictor is duplicating the functionality of that particular neuron but not the stuff before it.\n",
    "   - Patching the neuron's behavior wouldn't change the prediction.\n",
    "   - But patching the W_in to that layer should change the prediction.\n",
    "\n",
    "2. **Similarity with Output Weights**:\n",
    "   - A high similarity suggests the prediction model has learned to look at what the neuron is putting in the residual stream.\n",
    "   - In this case patching the neuron's output would change the prediction.\n",
    "\n",
    "Note that similarity with a random baseline will generally be within +/- 0.07."
   ]
  }
 ],
 "metadata": {
  "kernelspec": {
   "display_name": "neuron_selection",
   "language": "python",
   "name": "python3"
  },
  "language_info": {
   "codemirror_mode": {
    "name": "ipython",
    "version": 3
   },
   "file_extension": ".py",
   "mimetype": "text/x-python",
   "name": "python",
   "nbconvert_exporter": "python",
   "pygments_lexer": "ipython3",
   "version": "3.11.11"
  }
 },
 "nbformat": 4,
 "nbformat_minor": 4
}
